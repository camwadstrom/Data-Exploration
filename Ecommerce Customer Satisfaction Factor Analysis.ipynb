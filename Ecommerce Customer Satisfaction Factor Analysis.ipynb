{
 "cells": [
  {
   "cell_type": "code",
   "execution_count": 30,
   "id": "37846402",
   "metadata": {
    "scrolled": true
   },
   "outputs": [
    {
     "name": "stdout",
     "output_type": "stream",
     "text": [
      "In this hypothetical scenario, I have fake customer feedback data from a survey asking about customer satisfaction, product quality, and delivery experience from an e-commerce platform. I will perform a factor analysis to identify potential underlying factors that might drive customer satisfaction.\n"
     ]
    }
   ],
   "source": [
    "print('In this hypothetical scenario, I have fake customer feedback data from a survey asking about customer satisfaction, product quality, and delivery experience from an e-commerce platform. I will perform a factor analysis to identify potential underlying factors that might drive customer satisfaction.')"
   ]
  },
  {
   "cell_type": "code",
   "execution_count": 5,
   "id": "ac0e7c3e",
   "metadata": {},
   "outputs": [],
   "source": [
    "import pandas as pd\n",
    "import numpy as np"
   ]
  },
  {
   "cell_type": "code",
   "execution_count": 3,
   "id": "0244f3c0",
   "metadata": {},
   "outputs": [],
   "source": [
    "df = pd.read_csv(r'customer_feedback.csv')\n"
   ]
  },
  {
   "cell_type": "code",
   "execution_count": 4,
   "id": "d75ad2e0",
   "metadata": {},
   "outputs": [
    {
     "data": {
      "text/html": [
       "<div>\n",
       "<style scoped>\n",
       "    .dataframe tbody tr th:only-of-type {\n",
       "        vertical-align: middle;\n",
       "    }\n",
       "\n",
       "    .dataframe tbody tr th {\n",
       "        vertical-align: top;\n",
       "    }\n",
       "\n",
       "    .dataframe thead th {\n",
       "        text-align: right;\n",
       "    }\n",
       "</style>\n",
       "<table border=\"1\" class=\"dataframe\">\n",
       "  <thead>\n",
       "    <tr style=\"text-align: right;\">\n",
       "      <th></th>\n",
       "      <th>Overall_Satisfaction</th>\n",
       "      <th>Product_Quality</th>\n",
       "      <th>Delivery_Speed</th>\n",
       "      <th>Customer_Service</th>\n",
       "      <th>Returns_Process</th>\n",
       "      <th>Price_Value</th>\n",
       "    </tr>\n",
       "  </thead>\n",
       "  <tbody>\n",
       "    <tr>\n",
       "      <th>0</th>\n",
       "      <td>7</td>\n",
       "      <td>1</td>\n",
       "      <td>10</td>\n",
       "      <td>8</td>\n",
       "      <td>2</td>\n",
       "      <td>4</td>\n",
       "    </tr>\n",
       "    <tr>\n",
       "      <th>1</th>\n",
       "      <td>4</td>\n",
       "      <td>8</td>\n",
       "      <td>6</td>\n",
       "      <td>9</td>\n",
       "      <td>5</td>\n",
       "      <td>3</td>\n",
       "    </tr>\n",
       "    <tr>\n",
       "      <th>2</th>\n",
       "      <td>8</td>\n",
       "      <td>4</td>\n",
       "      <td>7</td>\n",
       "      <td>6</td>\n",
       "      <td>2</td>\n",
       "      <td>10</td>\n",
       "    </tr>\n",
       "    <tr>\n",
       "      <th>3</th>\n",
       "      <td>5</td>\n",
       "      <td>4</td>\n",
       "      <td>9</td>\n",
       "      <td>5</td>\n",
       "      <td>2</td>\n",
       "      <td>5</td>\n",
       "    </tr>\n",
       "    <tr>\n",
       "      <th>4</th>\n",
       "      <td>7</td>\n",
       "      <td>5</td>\n",
       "      <td>1</td>\n",
       "      <td>6</td>\n",
       "      <td>6</td>\n",
       "      <td>5</td>\n",
       "    </tr>\n",
       "  </tbody>\n",
       "</table>\n",
       "</div>"
      ],
      "text/plain": [
       "   Overall_Satisfaction  Product_Quality  Delivery_Speed  Customer_Service  \\\n",
       "0                     7                1              10                 8   \n",
       "1                     4                8               6                 9   \n",
       "2                     8                4               7                 6   \n",
       "3                     5                4               9                 5   \n",
       "4                     7                5               1                 6   \n",
       "\n",
       "   Returns_Process  Price_Value  \n",
       "0                2            4  \n",
       "1                5            3  \n",
       "2                2           10  \n",
       "3                2            5  \n",
       "4                6            5  "
      ]
     },
     "execution_count": 4,
     "metadata": {},
     "output_type": "execute_result"
    }
   ],
   "source": [
    "df.head()"
   ]
  },
  {
   "cell_type": "code",
   "execution_count": 8,
   "id": "fd234530",
   "metadata": {},
   "outputs": [],
   "source": [
    "#pip install factor-analyzer"
   ]
  },
  {
   "cell_type": "code",
   "execution_count": 9,
   "id": "2803a275",
   "metadata": {},
   "outputs": [],
   "source": [
    "from factor_analyzer import FactorAnalyzer\n",
    "from sklearn.preprocessing import StandardScaler"
   ]
  },
  {
   "cell_type": "code",
   "execution_count": 10,
   "id": "19483745",
   "metadata": {},
   "outputs": [],
   "source": [
    "# Select the variables for factor analysis\n",
    "variables_for_fa = [\n",
    "    'Overall_Satisfaction', 'Product_Quality', 'Delivery_Speed',\n",
    "    'Customer_Service', 'Returns_Process', 'Price_Value'\n",
    "]"
   ]
  },
  {
   "cell_type": "code",
   "execution_count": 11,
   "id": "f02e8696",
   "metadata": {},
   "outputs": [],
   "source": [
    "# Extracing the selected variables\n",
    "selected_data = df[variables_for_fa]"
   ]
  },
  {
   "cell_type": "code",
   "execution_count": 12,
   "id": "3e518054",
   "metadata": {},
   "outputs": [],
   "source": [
    "# Standardizing the data for factor analysis\n",
    "scaler = StandardScaler()\n",
    "scaled_data = scaler.fit_transform(selected_data)"
   ]
  },
  {
   "cell_type": "code",
   "execution_count": 13,
   "id": "35a0fa22",
   "metadata": {},
   "outputs": [],
   "source": [
    "# Creating a FactorAnalyzer object and specifying the number of factors\n",
    "n_factors = 3 \n",
    "fa = FactorAnalyzer(n_factors, rotation='varimax')"
   ]
  },
  {
   "cell_type": "code",
   "execution_count": 14,
   "id": "36e0a818",
   "metadata": {},
   "outputs": [
    {
     "data": {
      "text/html": [
       "<style>#sk-container-id-1 {color: black;}#sk-container-id-1 pre{padding: 0;}#sk-container-id-1 div.sk-toggleable {background-color: white;}#sk-container-id-1 label.sk-toggleable__label {cursor: pointer;display: block;width: 100%;margin-bottom: 0;padding: 0.3em;box-sizing: border-box;text-align: center;}#sk-container-id-1 label.sk-toggleable__label-arrow:before {content: \"▸\";float: left;margin-right: 0.25em;color: #696969;}#sk-container-id-1 label.sk-toggleable__label-arrow:hover:before {color: black;}#sk-container-id-1 div.sk-estimator:hover label.sk-toggleable__label-arrow:before {color: black;}#sk-container-id-1 div.sk-toggleable__content {max-height: 0;max-width: 0;overflow: hidden;text-align: left;background-color: #f0f8ff;}#sk-container-id-1 div.sk-toggleable__content pre {margin: 0.2em;color: black;border-radius: 0.25em;background-color: #f0f8ff;}#sk-container-id-1 input.sk-toggleable__control:checked~div.sk-toggleable__content {max-height: 200px;max-width: 100%;overflow: auto;}#sk-container-id-1 input.sk-toggleable__control:checked~label.sk-toggleable__label-arrow:before {content: \"▾\";}#sk-container-id-1 div.sk-estimator input.sk-toggleable__control:checked~label.sk-toggleable__label {background-color: #d4ebff;}#sk-container-id-1 div.sk-label input.sk-toggleable__control:checked~label.sk-toggleable__label {background-color: #d4ebff;}#sk-container-id-1 input.sk-hidden--visually {border: 0;clip: rect(1px 1px 1px 1px);clip: rect(1px, 1px, 1px, 1px);height: 1px;margin: -1px;overflow: hidden;padding: 0;position: absolute;width: 1px;}#sk-container-id-1 div.sk-estimator {font-family: monospace;background-color: #f0f8ff;border: 1px dotted black;border-radius: 0.25em;box-sizing: border-box;margin-bottom: 0.5em;}#sk-container-id-1 div.sk-estimator:hover {background-color: #d4ebff;}#sk-container-id-1 div.sk-parallel-item::after {content: \"\";width: 100%;border-bottom: 1px solid gray;flex-grow: 1;}#sk-container-id-1 div.sk-label:hover label.sk-toggleable__label {background-color: #d4ebff;}#sk-container-id-1 div.sk-serial::before {content: \"\";position: absolute;border-left: 1px solid gray;box-sizing: border-box;top: 0;bottom: 0;left: 50%;z-index: 0;}#sk-container-id-1 div.sk-serial {display: flex;flex-direction: column;align-items: center;background-color: white;padding-right: 0.2em;padding-left: 0.2em;position: relative;}#sk-container-id-1 div.sk-item {position: relative;z-index: 1;}#sk-container-id-1 div.sk-parallel {display: flex;align-items: stretch;justify-content: center;background-color: white;position: relative;}#sk-container-id-1 div.sk-item::before, #sk-container-id-1 div.sk-parallel-item::before {content: \"\";position: absolute;border-left: 1px solid gray;box-sizing: border-box;top: 0;bottom: 0;left: 50%;z-index: -1;}#sk-container-id-1 div.sk-parallel-item {display: flex;flex-direction: column;z-index: 1;position: relative;background-color: white;}#sk-container-id-1 div.sk-parallel-item:first-child::after {align-self: flex-end;width: 50%;}#sk-container-id-1 div.sk-parallel-item:last-child::after {align-self: flex-start;width: 50%;}#sk-container-id-1 div.sk-parallel-item:only-child::after {width: 0;}#sk-container-id-1 div.sk-dashed-wrapped {border: 1px dashed gray;margin: 0 0.4em 0.5em 0.4em;box-sizing: border-box;padding-bottom: 0.4em;background-color: white;}#sk-container-id-1 div.sk-label label {font-family: monospace;font-weight: bold;display: inline-block;line-height: 1.2em;}#sk-container-id-1 div.sk-label-container {text-align: center;}#sk-container-id-1 div.sk-container {/* jupyter's `normalize.less` sets `[hidden] { display: none; }` but bootstrap.min.css set `[hidden] { display: none !important; }` so we also need the `!important` here to be able to override the default hidden behavior on the sphinx rendered scikit-learn.org. See: https://github.com/scikit-learn/scikit-learn/issues/21755 */display: inline-block !important;position: relative;}#sk-container-id-1 div.sk-text-repr-fallback {display: none;}</style><div id=\"sk-container-id-1\" class=\"sk-top-container\"><div class=\"sk-text-repr-fallback\"><pre>FactorAnalyzer(rotation=&#x27;varimax&#x27;, rotation_kwargs={})</pre><b>In a Jupyter environment, please rerun this cell to show the HTML representation or trust the notebook. <br />On GitHub, the HTML representation is unable to render, please try loading this page with nbviewer.org.</b></div><div class=\"sk-container\" hidden><div class=\"sk-item\"><div class=\"sk-estimator sk-toggleable\"><input class=\"sk-toggleable__control sk-hidden--visually\" id=\"sk-estimator-id-1\" type=\"checkbox\" checked><label for=\"sk-estimator-id-1\" class=\"sk-toggleable__label sk-toggleable__label-arrow\">FactorAnalyzer</label><div class=\"sk-toggleable__content\"><pre>FactorAnalyzer(rotation=&#x27;varimax&#x27;, rotation_kwargs={})</pre></div></div></div></div></div>"
      ],
      "text/plain": [
       "FactorAnalyzer(rotation='varimax', rotation_kwargs={})"
      ]
     },
     "execution_count": 14,
     "metadata": {},
     "output_type": "execute_result"
    }
   ],
   "source": [
    "# Fitting the factor analysis model to the data\n",
    "fa.fit(scaled_data)"
   ]
  },
  {
   "cell_type": "code",
   "execution_count": 23,
   "id": "45693674",
   "metadata": {
    "scrolled": true
   },
   "outputs": [
    {
     "name": "stdout",
     "output_type": "stream",
     "text": [
      "\n",
      "Factor Loadings:\n",
      " [[ 7.04414661e-03  2.61252858e-01  9.67059064e-04]\n",
      " [-9.25633539e-03  9.42280873e-03 -1.33695302e-01]\n",
      " [-4.20192950e-02 -1.05646221e-02  1.88867049e-01]\n",
      " [ 1.84343495e-02 -1.77090831e-01  1.16597750e-02]\n",
      " [ 6.29518087e-02  6.79266923e-02 -3.16082935e-02]\n",
      " [ 9.92828316e-01 -9.34849859e-02 -2.38039498e-02]]\n"
     ]
    }
   ],
   "source": [
    "# Factor loadings\n",
    "loadings = fa.loadings_\n",
    "print(\"\\nFactor Loadings:\\n\", loadings)"
   ]
  },
  {
   "cell_type": "code",
   "execution_count": 22,
   "id": "c76cbf68",
   "metadata": {},
   "outputs": [
    {
     "name": "stdout",
     "output_type": "stream",
     "text": [
      "\n",
      "Interpretation of Loadings:\n",
      "The first factor seems to represent aspects related to overall customer experience, including a strong association with satisfaction, perceived product quality, and perceived value for the price paid. Factor 2 might capture aspects related to the quality of customer service, but it's not as strongly represented as Factor 1 in this dataset. Factor 3, with Returns_Process having a moderate loading, might represent aspects related to the returns process or after the purchase experience, but it's not as prominent as the other factors.\n"
     ]
    }
   ],
   "source": [
    "print(\"\\nInterpretation of Loadings:\\n\"\n",
    "      \"The first factor seems to represent aspects related to overall customer experience, including a strong association with satisfaction, perceived product quality, and perceived value for the price paid. \"\n",
    "      \"Factor 2 might capture aspects related to the quality of customer service, but it's not as strongly represented as Factor 1 in this dataset. \"\n",
    "      \"Factor 3, with Returns_Process having a moderate loading, might represent aspects related to the returns process or after the purchase experience, but it's not as prominent as the other factors.\")"
   ]
  },
  {
   "cell_type": "code",
   "execution_count": 28,
   "id": "f339aa75",
   "metadata": {},
   "outputs": [
    {
     "name": "stdout",
     "output_type": "stream",
     "text": [
      "(array([0.99191174, 0.1131681 , 0.05524779]), array([0.16531862, 0.01886135, 0.00920797]), array([0.16531862, 0.18417997, 0.19338794]))\n"
     ]
    }
   ],
   "source": [
    "# Variance explained by each factor\n",
    "variance_explained = fa.get_factor_variance()\n",
    "print(variance_explained)"
   ]
  },
  {
   "cell_type": "code",
   "execution_count": 29,
   "id": "9ae9295f",
   "metadata": {},
   "outputs": [
    {
     "name": "stdout",
     "output_type": "stream",
     "text": [
      "\n",
      "Interpretation of Variance:\n",
      "Factor 1 explains most of the variability in how customers give feedback (almost 99%). This suggests that how satisfied they are overall, with product quality, and the value they perceive is the most crucial aspect of their feedback. Variables strongly connected to Factor 1 (customer satisfaction, product quality, percieved value) are the most crucial aspects of customer feedback in this dataset. These are the factors that the E-commerce company should focus their efforts on addressing.\n"
     ]
    }
   ],
   "source": [
    "print(\"\\nInterpretation of Variance:\\n\"\n",
    "      \"Factor 1 explains most of the variability in how customers give feedback (almost 99%). This suggests that how satisfied they are overall, with product quality, and the value they perceive is the most crucial aspect of their feedback. Variables strongly connected to Factor 1 (customer satisfaction, product quality, percieved value) are the most crucial aspects of customer feedback in this dataset. These are the factors that the E-commerce company should focus their efforts on addressing.\")"
   ]
  }
 ],
 "metadata": {
  "kernelspec": {
   "display_name": "Python 3 (ipykernel)",
   "language": "python",
   "name": "python3"
  },
  "language_info": {
   "codemirror_mode": {
    "name": "ipython",
    "version": 3
   },
   "file_extension": ".py",
   "mimetype": "text/x-python",
   "name": "python",
   "nbconvert_exporter": "python",
   "pygments_lexer": "ipython3",
   "version": "3.11.5"
  }
 },
 "nbformat": 4,
 "nbformat_minor": 5
}
